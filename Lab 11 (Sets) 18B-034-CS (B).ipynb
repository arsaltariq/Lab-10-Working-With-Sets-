{
 "cells": [
  {
   "cell_type": "code",
   "execution_count": 4,
   "metadata": {},
   "outputs": [
    {
     "name": "stdout",
     "output_type": "stream",
     "text": [
      "{'345-67-89', '234-56-78', '123-45-67'}\n",
      "The length of phonebook1 is: 3\n",
      "The given phonebook1 is: {'345-67-89', '234-56-78', '123-45-67'}\n"
     ]
    }
   ],
   "source": [
    "#Lab Seriesl No. 11\n",
    "#Sets in python\n",
    "#Program 1\n",
    "\n",
    "phonebook1 = {\"123-45-67\" , \"234-56-78\" , \"123-45-67\" , \"345-67-89\"}\n",
    "print(phonebook1)\n",
    "set_len = len(phonebook1)\n",
    "print(\"The length of phonebook1 is:\",set_len)\n",
    "print(\"The given phonebook1 is:\", phonebook1)\n"
   ]
  },
  {
   "cell_type": "code",
   "execution_count": 5,
   "metadata": {},
   "outputs": [
    {
     "name": "stdout",
     "output_type": "stream",
     "text": [
      "{'Usman Institute of Technology', 17.5, (1, 2, 3, 4, 5, 6)}\n",
      "The length of mix data is: 3\n"
     ]
    }
   ],
   "source": [
    "#Program 2\n",
    "#Program to store mix data\n",
    "\n",
    "mix_data = {\"Usman Institute of Technology\", 17.5, (1,2,3,4,5,6)}\n",
    "print(mix_data)\n",
    "set_len = len(mix_data)\n",
    "print(\"The length of mix data is:\", set_len)\n"
   ]
  },
  {
   "cell_type": "code",
   "execution_count": 7,
   "metadata": {},
   "outputs": [
    {
     "name": "stdout",
     "output_type": "stream",
     "text": [
      "For a Data Scientist specialization you need: {'Hadoop', 'Python', 'Java', 'Scala', 'SQL', 'Git'}\n"
     ]
    }
   ],
   "source": [
    "#Program 3\n",
    "#TypeCasting of sets\n",
    "\n",
    "data_scientist = set([\"Python\", \"R\", \"SQL\", \"Git\", \"Tableau\", \"SAS\"])\n",
    "data_engineer = set([\"Python\", \"Java\", \"Scala\", \"Git\", \"SQL\", \"Hadoop\"])\n",
    "print(\"For a Data Scientist specialization you need:\", data_engineer)\n"
   ]
  },
  {
   "cell_type": "code",
   "execution_count": 8,
   "metadata": {},
   "outputs": [
    {
     "name": "stdout",
     "output_type": "stream",
     "text": [
      "set()\n",
      "{}\n",
      "{}\n"
     ]
    }
   ],
   "source": [
    "#Program 4\n",
    "#Two dictionaries with two methods\n",
    "\n",
    "my_empty_set = set()\n",
    "my_empty_dictionary1 = dict()\n",
    "my_empty_dictionary2 = {}\n",
    "print(my_empty_set)\n",
    "print(my_empty_dictionary1)\n",
    "print(my_empty_dictionary2)"
   ]
  },
  {
   "cell_type": "code",
   "execution_count": 9,
   "metadata": {},
   "outputs": [
    {
     "name": "stdout",
     "output_type": "stream",
     "text": [
      "My top scoring students in Programming Fundamentals are: {'Bassam', 'Usman', 'Rafeh', 'Ahad', 'Asma', 'Yusra', 'Wadood'}\n",
      "Oh, I guess I missed one student, let me add his name too\n",
      "Previously I have added:7students in my list\n",
      "Thanks, I have remember him\n",
      "Now my top scoring students names are: {'Bassam', 'Khurrum', 'Usman', 'Rafeh', 'Ahad', 'Asma', 'Yusra', 'Wadood'}\n",
      "Now my top scoring students name are: {'Bassam', 'Khurrum', 'Usman', 'Rafeh', 'Ahad', 'Asma', 'Yusra', 'Wadood'}\n",
      "Now after adding I have:8students in my list\n"
     ]
    }
   ],
   "source": [
    "#Progarm 5 \n",
    "#Top scoring students\n",
    "\n",
    "my_top_students = {\"Bassam\" , \"Usman\" , \"Rafeh\" , \"Ahad\" , \"Wadood\" , \"Yusra\" , \"Asma\"}\n",
    "print(\"My top scoring students in Programming Fundamentals are:\", my_top_students)\n",
    "print(\"Oh, I guess I missed one student, let me add his name too\")\n",
    "print(\"Previously I have added:\"+ str(len(my_top_students)) + \"students in my list\")\n",
    "my_top_students.add(\"Khurrum\")\n",
    "print(\"Thanks, I have remember him\")\n",
    "print(\"Now my top scoring students names are:\" , my_top_students)\n",
    "print(\"Now my top scoring students name are:\" , my_top_students)\n",
    "print(\"Now after adding I have:\" + str(len(my_top_students)) + \"students in my list\")\n"
   ]
  },
  {
   "cell_type": "code",
   "execution_count": 14,
   "metadata": {},
   "outputs": [
    {
     "name": "stdout",
     "output_type": "stream",
     "text": [
      "My top scoring students in Programming fundamentals are: {'Bassam', 'Usman', 'Rafeh', 'Ahad', 'Asma', 'Yusra', 'Wadood'}\n",
      "Oh, I guess I missed one student, let me add his name too\n",
      "Previously I haver addded:7 students in my list\n",
      "Thanks, I have remember him\n",
      "Now my top scoring students names are: {'Bassam', 'Usman', 'Rafeh', 'Ahad', 'Khurrum Khan', 'Asma', 'Yusra', 'Khurrum Khalil', 'Wadood'}\n",
      "Now after adding I have:9students in my list\n",
      "Oh, I guess I have added one student with similar name, let me remove his name.\n",
      "Now my top scoring students names after removing extra name are: {'Bassam', 'Usman', 'Rafeh', 'Ahad', 'Khurrum Khan', 'Asma', 'Yusra', 'Wadood'}\n",
      "Now after removing I have: 8 students in my list\n"
     ]
    }
   ],
   "source": [
    "#Program 6\n",
    "#Removing information from existing set\n",
    "\n",
    "my_top_students = {\"Bassam\" , \"Usman\" , \"Rafeh\" , \"Ahad\" , \"Wadood\" , \"Yusra\" , \"Asma\"}\n",
    "print(\"My top scoring students in Programming fundamentals are:\", my_top_students)\n",
    "print(\"Oh, I guess I missed one student, let me add his name too\")\n",
    "print(\"Previously I haver addded:\" + str(len(my_top_students)) + \" students in my list\")\n",
    "my_top_students.add(\"Khurrum Khalil\")\n",
    "my_top_students.add(\"Khurrum Khan\")\n",
    "print(\"Thanks, I have remember him\")\n",
    "print(\"Now my top scoring students names are:\", my_top_students)\n",
    "print(\"Now after adding I have:\" + str(len(my_top_students)) + \"students in my list\")\n",
    "print(\"Oh, I guess I have added one student with similar name, let me remove his name.\")\n",
    "my_top_students.remove (\"Khurrum Khalil\")\n",
    "print(\"Now my top scoring students names after removing extra name are:\", my_top_students)\n",
    "print(\"Now after removing I have: \" + str(len(my_top_students)) + \" students in my list\")\n"
   ]
  },
  {
   "cell_type": "code",
   "execution_count": 26,
   "metadata": {},
   "outputs": [
    {
     "name": "stdout",
     "output_type": "stream",
     "text": [
      "My top scoring students in Programming fundamentals are: {'Bassam', 'Usman', 'Rafeh', 'Ahad', 'Asma', 'Yusra', 'Wadood'}\n",
      "Oh, I guess I misses one student, let me add his name too\n",
      "Previously I have added:7 students in my list\n",
      "Thanks, I have remember him\n",
      "Now my top scoring students names are : {'Bassam', 'Usman', 'Rafeh', 'Ahad', 'Khurrum Khan', 'Asma', 'Yusra', 'Khurrum Khalil', 'Wadood'}\n",
      "Now after adding I have :9 students in my list\n",
      "Oh, I guess I have added one student with similar name, let me remove his name.\n",
      "Now my top scoring students names after removing extra name are : {'Bassam', 'Usman', 'Rafeh', 'Ahad', 'Khurrum Khan', 'Asma', 'Yusra', 'Wadood'}\n",
      "Now after removing I have :8 students in my list\n",
      "Now my top scoring students names after removing extra name are : {'Bassam', 'Usman', 'Rafeh', 'Ahad', 'Khurrum Khan', 'Asma', 'Yusra', 'Wadood'}\n",
      "Now after removing I have :8 students in my list\n"
     ]
    }
   ],
   "source": [
    "#Program 7\n",
    "#Using discard method\n",
    "\n",
    "my_top_students = {\"Bassam\" , \"Usman\" , \"Rafeh\" , \"Ahad\" , \"Wadood\" , \"Yusra\" , \"Asma\"}\n",
    "print(\"My top scoring students in Programming fundamentals are:\", my_top_students)\n",
    "print(\"Oh, I guess I misses one student, let me add his name too\")\n",
    "print(\"Previously I have added:\" + str(len(my_top_students)) + \" students in my list\")\n",
    "my_top_students.add(\"Khurrum Khalil\")\n",
    "my_top_students.add(\"Khurrum Khan\")\n",
    "print(\"Thanks, I have remember him\")\n",
    "print(\"Now my top scoring students names are :\", my_top_students) \n",
    "print(\"Now after adding I have :\"+ str(len(my_top_students)) +\" students in my list\") \n",
    "print(\"Oh, I guess I have added one student with similar name, let me remove his name.\") \n",
    "my_top_students.remove(\"Khurrum Khalil\") \n",
    "print(\"Now my top scoring students names after removing extra name are :\", my_top_students)\n",
    "print(\"Now after removing I have :\"+ str(len(my_top_students)) +\" students in my list\") \n",
    "my_top_students.discard(\"Khurram Khan\") \n",
    "print(\"Now my top scoring students names after removing extra name are :\", my_top_students) \n",
    "print(\"Now after removing I have :\"+ str(len(my_top_students)) +\" students in my list\") "
   ]
  },
  {
   "cell_type": "code",
   "execution_count": 37,
   "metadata": {},
   "outputs": [
    {
     "name": "stdout",
     "output_type": "stream",
     "text": [
      "My top scoring students in Programming fundamentals are: {'Bassam', 'Usman', 'Rafeh', 'Ahad', 'Asma', 'Yusra', 'Wadood'}\n",
      "Oh, I guess I miss one student, let me add his name too\n",
      "Previously I have added :7 students in my list\n",
      "Thanks, I have remember him\n",
      "Now my top scoring students names are : {'Bassam', 'Khurram Khalil', 'Usman', 'Rafeh', 'Ahad', 'Khurram Khan', 'Asma', 'Yusra', 'Wadood'}\n",
      "Now after adding I have :9 students in my list\n",
      "Oh, I guess I have added one student with similar name, let me remove his name.\n",
      "Now my top scoring students names after removing extra name are : {'Bassam', 'Usman', 'Rafeh', 'Ahad', 'Khurram Khan', 'Asma', 'Yusra', 'Wadood'}\n",
      "Now after removing I have :8 students in my list\n",
      "Now my top scoring students names after removing extra name are : {'Bassam', 'Usman', 'Rafeh', 'Ahad', 'Khurram Khan', 'Asma', 'Yusra', 'Wadood'}\n",
      "Now after removing I have :8 students in my list\n",
      "Now my top scoring students names after removing extra name are : {'Usman', 'Rafeh', 'Ahad', 'Khurram Khan', 'Asma', 'Yusra', 'Wadood'}\n",
      "Now after removing I have :7 students in my list\n"
     ]
    }
   ],
   "source": [
    "#Program 8\n",
    "#Removing items (Discard, pop)\n",
    "\n",
    "My_topStudents = {'Bassam','Usman','Rafeh', 'Ahad', 'Wadood','Yusra', 'Asma'} \n",
    "print('My top scoring students in Programming fundamentals are:', My_topStudents) \n",
    "print('Oh, I guess I miss one student, let me add his name too') \n",
    "print('Previously I have added :'+ str(len(My_topStudents)) +' students in my list') \n",
    "My_topStudents.add('Khurram Khalil') \n",
    "My_topStudents.add('Khurram Khan') \n",
    "print('Thanks, I have remember him') \n",
    "print('Now my top scoring students names are :', My_topStudents) \n",
    "print('Now after adding I have :'+ str(len(My_topStudents)) +' students in my list') \n",
    "print('Oh, I guess I have added one student with similar name, let me remove his name.') \n",
    "My_topStudents.remove('Khurram Khalil') \n",
    "print('Now my top scoring students names after removing extra name are :', My_topStudents) \n",
    "print('Now after removing I have :'+ str(len(My_topStudents)) +' students in my list') \n",
    "My_topStudents.discard('Khurram Khalil') \n",
    "print('Now my top scoring students names after removing extra name are :', My_topStudents) \n",
    "print('Now after removing I have :'+ str(len(My_topStudents)) +' students in my list') \n",
    "My_topStudents.pop() \n",
    "print('Now my top scoring students names after removing extra name are :', My_topStudents) \n",
    "print('Now after removing I have :'+ str(len(My_topStudents)) +' students in my list') "
   ]
  },
  {
   "cell_type": "code",
   "execution_count": 38,
   "metadata": {},
   "outputs": [
    {
     "name": "stdout",
     "output_type": "stream",
     "text": [
      "My top scoring students in Programming fundamentals are: {'Bassam', 'Usman', 'Rafeh', 'Ahad', 'Asma', 'Yusra', 'Wadood'}\n",
      "Lets clear this list and prepare new list for the final exams\n",
      "Now after clearing the set I have : None\n"
     ]
    }
   ],
   "source": [
    "#Program 9\n",
    "#Clearing the set\n",
    "\n",
    "My_topStudents = {'Bassam','Usman','Rafeh', 'Ahad', 'Wadood','Yusra','Asma'} \n",
    "print('My top scoring students in Programming fundamentals are:', My_topStudents) \n",
    "print('Lets clear this list and prepare new list for the final exams') \n",
    "My_topStudents = My_topStudents.clear() \n",
    "print('Now after clearing the set I have :', My_topStudents) "
   ]
  },
  {
   "cell_type": "code",
   "execution_count": 40,
   "metadata": {},
   "outputs": [
    {
     "name": "stdout",
     "output_type": "stream",
     "text": [
      "Phonebook1 is : {'345-67-89', '234-56-78', '123-45-67'}\n",
      "Phonebook3 is : {'345-67-89', '456-78-90'}\n",
      "The Union of Phonebook1 and Phonebook3: {'234-56-78', '345-67-89', '456-78-90', '123-45-67'}\n",
      "The Union of Phonebook3 and Phonebook1: {'234-56-78', '345-67-89', '456-78-90', '123-45-67'}\n",
      "The Intersection of Phonebook1 and Phonebook3: {'345-67-89'}\n",
      "The Intersection of Phonebook3 and Phonebook1: {'345-67-89'}\n",
      "The Difference Between Phonebook1 and Phonebook3: {'234-56-78', '123-45-67'}\n",
      "The Difference Between Phonebook3 and Phonebook1: {'456-78-90'}\n",
      "The Symmetric Difference Between Phonebook1 and Phonebook3: {'234-56-78', '456-78-90', '123-45-67'}\n",
      "The Symmetric Difference Between Phonebook3 and Phonebook1: {'234-56-78', '456-78-90', '123-45-67'}\n"
     ]
    }
   ],
   "source": [
    "#Program 10\n",
    "#Union, intersection, difference, symmetric difference\n",
    "\n",
    "phonebook1 = {'123-45-67', '234-56-78', '345-67-89','123-45-67', '345-67-89'} \n",
    "phonebook3 = {'345-67-89','456-78-90'} \n",
    "print(\"Phonebook1 is :\", phonebook1) \n",
    "print(\"Phonebook3 is :\", phonebook3) \n",
    "\n",
    "#Union \n",
    "\n",
    "print(\"The Union of Phonebook1 and Phonebook3:\",phonebook1 | phonebook3) \n",
    "print(\"The Union of Phonebook3 and Phonebook1:\",phonebook3 | phonebook1) \n",
    "\n",
    "#Intersection\n",
    "\n",
    "print(\"The Intersection of Phonebook1 and Phonebook3:\",phonebook1 & phonebook3) \n",
    "print(\"The Intersection of Phonebook3 and Phonebook1:\",phonebook3 & phonebook1) \n",
    "\n",
    "#Difference\n",
    "\n",
    "print(\"The Difference Between Phonebook1 and Phonebook3:\",phonebook1 - phonebook3) \n",
    "print(\"The Difference Between Phonebook3 and Phonebook1:\",phonebook3 - phonebook1) \n",
    "\n",
    "#Symmetric Difference\n",
    "\n",
    "print(\"The Symmetric Difference Between Phonebook1 and Phonebook3:\",phonebook1 ^ phonebook3) \n",
    "print(\"The Symmetric Difference Between Phonebook3 and Phonebook1:\",phonebook3 ^ phonebook1)"
   ]
  },
  {
   "cell_type": "code",
   "execution_count": 41,
   "metadata": {},
   "outputs": [
    {
     "name": "stdout",
     "output_type": "stream",
     "text": [
      "{'Rafeh', 'Arsal', 'Bassam'}\n",
      "{'Bassam', 'Rohaib', 'Khurrum', 'Rafeh', 'Ahad', 'Arsalan', 'Arsal', 'Wadood'}\n"
     ]
    }
   ],
   "source": [
    "#Programming Exercises\n",
    "#Program 1\n",
    "\n",
    "best_students = {\"Arsal\" , \"Bassam\" , \"Rafeh\"}\n",
    "print(best_students)\n",
    "best_students.add(\"Khurrum\")\n",
    "best_students.add(\"Rohaib\")\n",
    "best_students.add(\"Ahad\")\n",
    "best_students.add(\"Wadood\")\n",
    "best_students.add(\"Arsalan\")\n",
    "print(best_students)"
   ]
  },
  {
   "cell_type": "code",
   "execution_count": 42,
   "metadata": {},
   "outputs": [
    {
     "name": "stdout",
     "output_type": "stream",
     "text": [
      "{'Rohaib', 'Atiq', 'Muneeb', 'Ahmed', 'Umer', 'Arsal'}\n",
      "{'Rohaib', 'Atiq', 'Ahmed', 'Arsal'}\n"
     ]
    }
   ],
   "source": [
    "#Program 2\n",
    "\n",
    "students = {\"Arsal\" , \"Rohaib\" , \"Umer\" , \"Atiq\" , \"Muneeb\" , \"Ahmed\"}\n",
    "print(students)\n",
    "\n",
    "#Removing names of students who left UIT\n",
    "\n",
    "students.remove(\"Muneeb\")\n",
    "students.remove(\"Umer\")\n",
    "print(students)"
   ]
  }
 ],
 "metadata": {
  "kernelspec": {
   "display_name": "Python 3",
   "language": "python",
   "name": "python3"
  },
  "language_info": {
   "codemirror_mode": {
    "name": "ipython",
    "version": 3
   },
   "file_extension": ".py",
   "mimetype": "text/x-python",
   "name": "python",
   "nbconvert_exporter": "python",
   "pygments_lexer": "ipython3",
   "version": "3.6.5"
  }
 },
 "nbformat": 4,
 "nbformat_minor": 2
}
